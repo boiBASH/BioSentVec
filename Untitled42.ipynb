{
  "nbformat": 4,
  "nbformat_minor": 0,
  "metadata": {
    "colab": {
      "provenance": [],
      "mount_file_id": "1CyKsEdI7dOqjc23KmLDtGb2bQCWaWvHY",
      "authorship_tag": "ABX9TyPKY8/8oNW0wZF6uWquRi/4",
      "include_colab_link": true
    },
    "kernelspec": {
      "name": "python3",
      "display_name": "Python 3"
    },
    "language_info": {
      "name": "python"
    }
  },
  "cells": [
    {
      "cell_type": "markdown",
      "metadata": {
        "id": "view-in-github",
        "colab_type": "text"
      },
      "source": [
        "<a href=\"https://colab.research.google.com/github/boiBASH/BioSentVec/blob/master/Untitled42.ipynb\" target=\"_parent\"><img src=\"https://colab.research.google.com/assets/colab-badge.svg\" alt=\"Open In Colab\"/></a>"
      ]
    },
    {
      "cell_type": "code",
      "execution_count": 1,
      "metadata": {
        "id": "QwXURWXOCV2m"
      },
      "outputs": [],
      "source": [
        "#Importing the required Libraries\n",
        "import pandas as pd\n",
        "import re\n",
        "import nltk\n",
        "from scipy.sparse import save_npz\n",
        "from nltk.corpus import stopwords\n",
        "from nltk.tokenize import word_tokenize\n",
        "from sklearn.model_selection import train_test_split\n",
        "from sklearn.feature_extraction.text import CountVectorizer, TfidfVectorizer"
      ]
    },
    {
      "cell_type": "code",
      "source": [
        "# Ensure necessary NLTK resources are available\n",
        "nltk.download('stopwords')\n",
        "nltk.download('punkt_tab')"
      ],
      "metadata": {
        "colab": {
          "base_uri": "https://localhost:8080/"
        },
        "id": "qnqgT11OD3M1",
        "outputId": "4eb363a7-83c3-43f3-bedd-e9ad88c5bc5d"
      },
      "execution_count": 2,
      "outputs": [
        {
          "output_type": "stream",
          "name": "stderr",
          "text": [
            "[nltk_data] Downloading package stopwords to /root/nltk_data...\n",
            "[nltk_data]   Unzipping corpora/stopwords.zip.\n",
            "[nltk_data] Downloading package punkt_tab to /root/nltk_data...\n",
            "[nltk_data]   Unzipping tokenizers/punkt_tab.zip.\n"
          ]
        },
        {
          "output_type": "execute_result",
          "data": {
            "text/plain": [
              "True"
            ]
          },
          "metadata": {},
          "execution_count": 2
        }
      ]
    },
    {
      "cell_type": "code",
      "source": [
        "# Label Mapping: \"__label__1\" -> 0 (Negative), \"__label__2\" -> 1 (Positive)\n",
        "label_mapping = {\"__label__1\": 0, \"__label__2\": 1}\n",
        "\n",
        "# Define function to clean and tokenize text efficiently\n",
        "def process_chunk(chunk):\n",
        "    # Map labels\n",
        "    chunk[\"labels\"] = chunk[\"labels\"].map(label_mapping)\n",
        "\n",
        "    # Convert text to lowercase and remove special characters\n",
        "    chunk[\"text\"] = chunk[\"text\"].astype(str).str.lower().apply(lambda x: re.sub(r'[^a-zA-Z\\s]', '', x))\n",
        "\n",
        "    # Tokenization and Stopword Removal\n",
        "    stop_words = set(stopwords.words('english'))\n",
        "    chunk[\"tokenized_text\"] = chunk[\"text\"].apply(lambda x: word_tokenize(x))\n",
        "    chunk[\"clean_text\"] = chunk[\"tokenized_text\"].apply(lambda tokens: \" \".join([word for word in tokens if word not in stop_words]))\n",
        "\n",
        "    return chunk[[\"labels\", \"clean_text\"]]\n",
        "\n",
        "# Define Chunk Size (Adjust based on system RAM)\n",
        "chunk_size = 100000  # Process 100,000 rows at a time"
      ],
      "metadata": {
        "id": "dzNjwdpaKvkW"
      },
      "execution_count": 3,
      "outputs": []
    },
    {
      "cell_type": "code",
      "source": [
        "# File paths\n",
        "train_file = \"/content/drive/MyDrive/Amdari Project/e commerce reviews train.csv\"  # Update with actual train dataset path\n",
        "test_file = \"/content/drive/MyDrive/Amdari Project/e commerce reviews test.csv\"  # Update with actual test dataset path\n",
        "\n",
        "# Output files\n",
        "train_output_file = \"/content/train_cleaned.csv\"\n",
        "test_output_file = \"/content/test_cleaned.csv\""
      ],
      "metadata": {
        "id": "euenUwl4K3Sr"
      },
      "execution_count": 4,
      "outputs": []
    },
    {
      "cell_type": "code",
      "source": [
        "# Process Train Dataset in Chunks\n",
        "with pd.read_csv(train_file, chunksize=chunk_size) as reader:\n",
        "    for i, chunk in enumerate(reader):\n",
        "        cleaned_chunk = process_chunk(chunk)\n",
        "        cleaned_chunk.to_csv(train_output_file, mode=\"a\", header=(i == 0), index=False)\n",
        "        print(f\"✅ Processed Train Chunk {i+1}\")\n",
        "\n",
        "# Process Test Dataset in Chunks\n",
        "with pd.read_csv(test_file, chunksize=chunk_size) as reader:\n",
        "    for i, chunk in enumerate(reader):\n",
        "        cleaned_chunk = process_chunk(chunk)\n",
        "        cleaned_chunk.to_csv(test_output_file, mode=\"a\", header=(i == 0), index=False)\n",
        "        print(f\"✅ Processed Test Chunk {i+1}\")\n",
        "\n",
        "print(\"✅ Train and Test datasets cleaned successfully!\")"
      ],
      "metadata": {
        "colab": {
          "base_uri": "https://localhost:8080/"
        },
        "id": "LuXOXu9LLSJT",
        "outputId": "923ab9c3-d969-4f7a-8d35-64b95e837ac8"
      },
      "execution_count": 5,
      "outputs": [
        {
          "output_type": "stream",
          "name": "stdout",
          "text": [
            "✅ Processed Train Chunk 1\n",
            "✅ Processed Train Chunk 2\n",
            "✅ Processed Train Chunk 3\n",
            "✅ Processed Train Chunk 4\n",
            "✅ Processed Train Chunk 5\n",
            "✅ Processed Train Chunk 6\n",
            "✅ Processed Train Chunk 7\n",
            "✅ Processed Train Chunk 8\n",
            "✅ Processed Train Chunk 9\n",
            "✅ Processed Train Chunk 10\n",
            "✅ Processed Train Chunk 11\n",
            "✅ Processed Train Chunk 12\n",
            "✅ Processed Train Chunk 13\n",
            "✅ Processed Train Chunk 14\n",
            "✅ Processed Train Chunk 15\n",
            "✅ Processed Train Chunk 16\n",
            "✅ Processed Train Chunk 17\n",
            "✅ Processed Train Chunk 18\n",
            "✅ Processed Train Chunk 19\n",
            "✅ Processed Train Chunk 20\n",
            "✅ Processed Train Chunk 21\n",
            "✅ Processed Train Chunk 22\n",
            "✅ Processed Train Chunk 23\n",
            "✅ Processed Train Chunk 24\n",
            "✅ Processed Train Chunk 25\n",
            "✅ Processed Train Chunk 26\n",
            "✅ Processed Train Chunk 27\n",
            "✅ Processed Train Chunk 28\n",
            "✅ Processed Train Chunk 29\n",
            "✅ Processed Train Chunk 30\n",
            "✅ Processed Train Chunk 31\n",
            "✅ Processed Train Chunk 32\n",
            "✅ Processed Train Chunk 33\n",
            "✅ Processed Train Chunk 34\n",
            "✅ Processed Train Chunk 35\n",
            "✅ Processed Train Chunk 36\n",
            "✅ Processed Train Chunk 37\n",
            "✅ Processed Test Chunk 1\n",
            "✅ Processed Test Chunk 2\n",
            "✅ Processed Test Chunk 3\n",
            "✅ Processed Test Chunk 4\n",
            "✅ Train and Test datasets cleaned successfully!\n"
          ]
        }
      ]
    },
    {
      "cell_type": "code",
      "source": [
        "# Load cleaned datasets\n",
        "train_cleaned = pd.read_csv(\"/content/test_cleaned.csv\")\n",
        "test_cleaned = pd.read_csv(\"/content/test_cleaned.csv\")\n"
      ],
      "metadata": {
        "id": "qXtSAQDULWFz"
      },
      "execution_count": 6,
      "outputs": []
    },
    {
      "cell_type": "code",
      "source": [
        "print(\"Train Dataset Overview:\")\n",
        "print(train_cleaned.head())"
      ],
      "metadata": {
        "colab": {
          "base_uri": "https://localhost:8080/"
        },
        "id": "qlNxgRSPWRqn",
        "outputId": "c7d4c3c3-43d0-4353-df6f-d87a11188637"
      },
      "execution_count": 7,
      "outputs": [
        {
          "output_type": "stream",
          "name": "stdout",
          "text": [
            "Train Dataset Overview:\n",
            "   labels                                         clean_text\n",
            "0       1  great cd lovely pat one great voices generatio...\n",
            "1       1  one best game music soundtracks game didnt rea...\n",
            "2       0  batteries died within year bought charger jul ...\n",
            "3       1  works fine maha energy better check maha energ...\n",
            "4       1  great nonaudiophile reviewed quite bit combo p...\n"
          ]
        }
      ]
    },
    {
      "cell_type": "code",
      "source": [
        "print(\"\\nTest Dataset Overview:\")\n",
        "print(test_cleaned.head())"
      ],
      "metadata": {
        "colab": {
          "base_uri": "https://localhost:8080/"
        },
        "id": "7Yy9cmMAWXGF",
        "outputId": "7ffc459d-63d6-4f07-ea49-3106cf8f62aa"
      },
      "execution_count": 8,
      "outputs": [
        {
          "output_type": "stream",
          "name": "stdout",
          "text": [
            "\n",
            "Test Dataset Overview:\n",
            "   labels                                         clean_text\n",
            "0       1  great cd lovely pat one great voices generatio...\n",
            "1       1  one best game music soundtracks game didnt rea...\n",
            "2       0  batteries died within year bought charger jul ...\n",
            "3       1  works fine maha energy better check maha energ...\n",
            "4       1  great nonaudiophile reviewed quite bit combo p...\n"
          ]
        }
      ]
    },
    {
      "cell_type": "code",
      "source": [
        "#class distribution\n",
        "print(\"\\nTrain Label Distribution:\")\n",
        "print(train_cleaned['labels'].value_counts())"
      ],
      "metadata": {
        "colab": {
          "base_uri": "https://localhost:8080/"
        },
        "id": "KZrzeBZZWa6U",
        "outputId": "537952f9-2612-4843-f7b2-69407d8dc568"
      },
      "execution_count": 9,
      "outputs": [
        {
          "output_type": "stream",
          "name": "stdout",
          "text": [
            "\n",
            "Train Label Distribution:\n",
            "labels\n",
            "1    200000\n",
            "0    200000\n",
            "Name: count, dtype: int64\n"
          ]
        }
      ]
    },
    {
      "cell_type": "code",
      "source": [
        "print(\"\\nTest Label Distribution:\")\n",
        "print(test_cleaned['labels'].value_counts())"
      ],
      "metadata": {
        "colab": {
          "base_uri": "https://localhost:8080/"
        },
        "id": "BdSMNgGmWeN7",
        "outputId": "f4d2230d-907b-43b6-b24e-17f2e00d5328"
      },
      "execution_count": 10,
      "outputs": [
        {
          "output_type": "stream",
          "name": "stdout",
          "text": [
            "\n",
            "Test Label Distribution:\n",
            "labels\n",
            "1    200000\n",
            "0    200000\n",
            "Name: count, dtype: int64\n"
          ]
        }
      ]
    },
    {
      "cell_type": "code",
      "source": [
        "# Split Train Data\n",
        "train_data, val_data = train_test_split(train_cleaned, test_size=0.2, random_state=42, stratify=train_cleaned[\"labels\"])\n",
        "\n",
        "# Save Train and Validation Data\n",
        "train_data.to_csv(\"/content/train_final.csv\", index=False)\n",
        "val_data.to_csv(\"/content/val_final.csv\", index=False)\n",
        "\n",
        "print(\"✅ Train and Validation datasets saved successfully!\")"
      ],
      "metadata": {
        "colab": {
          "base_uri": "https://localhost:8080/"
        },
        "id": "KD3HkrpRWn45",
        "outputId": "6959d11b-1d05-4bfb-e2a2-1d7f091823f0"
      },
      "execution_count": 11,
      "outputs": [
        {
          "output_type": "stream",
          "name": "stdout",
          "text": [
            "✅ Train and Validation datasets saved successfully!\n"
          ]
        }
      ]
    },
    {
      "cell_type": "code",
      "source": [
        "# Load Train and Validation Data\n",
        "train_data = pd.read_csv(\"/content/train_final.csv\")\n",
        "val_data = pd.read_csv(\"/content/val_final.csv\")\n",
        "test_data = pd.read_csv(\"/content/val_final.csv\")\n"
      ],
      "metadata": {
        "id": "D3od2QKBW-xI"
      },
      "execution_count": 12,
      "outputs": []
    },
    {
      "cell_type": "code",
      "source": [
        "# Ensure there are no NaN values in the text column\n",
        "train_data[\"clean_text\"] = train_data[\"clean_text\"].fillna(\"\")\n",
        "val_data[\"clean_text\"] = val_data[\"clean_text\"].fillna(\"\")\n",
        "test_data[\"clean_text\"] = test_data[\"clean_text\"].fillna(\"\")"
      ],
      "metadata": {
        "id": "fDhsLh23YONI"
      },
      "execution_count": 13,
      "outputs": []
    },
    {
      "cell_type": "code",
      "source": [
        "# Initialize Feature Extractors\n",
        "vectorizer_bow = CountVectorizer()\n",
        "vectorizer_tfidf = TfidfVectorizer()"
      ],
      "metadata": {
        "id": "RFs-ZJy0YQ3O"
      },
      "execution_count": 14,
      "outputs": []
    },
    {
      "cell_type": "code",
      "source": [
        "# Fit and Transform on Train, Transform on Validation and Test\n",
        "X_train_bow = vectorizer_bow.fit_transform(train_data[\"clean_text\"])\n",
        "X_val_bow = vectorizer_bow.transform(val_data[\"clean_text\"])\n",
        "X_test_bow = vectorizer_bow.transform(test_data[\"clean_text\"])\n",
        "\n",
        "X_train_tfidf = vectorizer_tfidf.fit_transform(train_data[\"clean_text\"])\n",
        "X_val_tfidf = vectorizer_tfidf.transform(val_data[\"clean_text\"])\n",
        "X_test_tfidf = vectorizer_tfidf.transform(test_data[\"clean_text\"])\n",
        "\n",
        "print(\"✅ Feature extraction completed successfully!\")"
      ],
      "metadata": {
        "colab": {
          "base_uri": "https://localhost:8080/"
        },
        "id": "A0LLU3mYYU8Y",
        "outputId": "49884159-b4b8-4392-e689-d8b53b1eac29"
      },
      "execution_count": 15,
      "outputs": [
        {
          "output_type": "stream",
          "name": "stdout",
          "text": [
            "✅ Feature extraction completed successfully!\n"
          ]
        }
      ]
    },
    {
      "cell_type": "code",
      "source": [
        "# Save TF-IDF Matrices\n",
        "save_npz(\"/content/X_train_tfidf.npz\", X_train_tfidf)\n",
        "save_npz(\"/content/X_val_tfidf.npz\", X_val_tfidf)\n",
        "save_npz(\"/content/X_test_tfidf.npz\", X_test_tfidf)\n",
        "\n",
        "# Save Labels\n",
        "train_data[[\"labels\"]].to_csv(\"/content/y_train.csv\", index=False)\n",
        "val_data[[\"labels\"]].to_csv(\"/content/y_val.csv\", index=False)\n",
        "test_data[[\"labels\"]].to_csv(\"/content/y_test.csv\", index=False)"
      ],
      "metadata": {
        "id": "KJ_RoPeqaxtg"
      },
      "execution_count": 16,
      "outputs": []
    },
    {
      "cell_type": "code",
      "source": [
        "# Required Libraries\n",
        "from sklearn.linear_model import LogisticRegression\n",
        "from sklearn.ensemble import RandomForestClassifier\n",
        "from sklearn.metrics import accuracy_score, classification_report\n",
        "from scipy.sparse import load_npz"
      ],
      "metadata": {
        "id": "Le_iOwosaNSE"
      },
      "execution_count": 17,
      "outputs": []
    },
    {
      "cell_type": "code",
      "source": [
        "# Load Features and Labels\n",
        "X_train_tfidf = load_npz(\"X_train_tfidf.npz\")\n",
        "X_val_tfidf = load_npz(\"X_val_tfidf.npz\")\n",
        "X_test_tfidf = load_npz(\"X_test_tfidf.npz\")\n",
        "\n",
        "y_train = pd.read_csv(\"y_train.csv\")[\"labels\"]\n",
        "y_val = pd.read_csv(\"y_val.csv\")[\"labels\"]\n",
        "y_test = pd.read_csv(\"y_test.csv\")[\"labels\"]"
      ],
      "metadata": {
        "id": "nVXgbmfFaQcV"
      },
      "execution_count": 18,
      "outputs": []
    },
    {
      "cell_type": "code",
      "source": [
        "# Train Logistic Regression Model\n",
        "log_reg = LogisticRegression()\n",
        "log_reg.fit(X_train_tfidf, y_train)\n",
        "y_pred_log_reg = log_reg.predict(X_val_tfidf)\n",
        "print(\"Logistic Regression Accuracy:\", accuracy_score(y_val, y_pred_log_reg))\n",
        "print(classification_report(y_val, y_pred_log_reg))"
      ],
      "metadata": {
        "colab": {
          "base_uri": "https://localhost:8080/"
        },
        "id": "x6eIOhS9cawL",
        "outputId": "cc029c05-8a06-4ced-df60-b98e33c1e80d"
      },
      "execution_count": 19,
      "outputs": [
        {
          "output_type": "stream",
          "name": "stdout",
          "text": [
            "Logistic Regression Accuracy: 0.8930375\n",
            "              precision    recall  f1-score   support\n",
            "\n",
            "           0       0.90      0.89      0.89     40000\n",
            "           1       0.89      0.90      0.89     40000\n",
            "\n",
            "    accuracy                           0.89     80000\n",
            "   macro avg       0.89      0.89      0.89     80000\n",
            "weighted avg       0.89      0.89      0.89     80000\n",
            "\n"
          ]
        }
      ]
    },
    {
      "cell_type": "code",
      "source": [
        "model = log_reg\n",
        "\n",
        "# Predict on Test Data\n",
        "y_pred_test = model.predict(X_test_tfidf)\n",
        "\n",
        "# Evaluate Performce\n",
        "print(\"Test Set Accuracy:\", accuracy_score(y_test, y_pred_test))\n",
        "print(classification_report(y_test, y_pred_test))"
      ],
      "metadata": {
        "colab": {
          "base_uri": "https://localhost:8080/"
        },
        "id": "lB_KCz0cQ6jF",
        "outputId": "fe734e53-745a-4c46-94dc-01daed8770d3"
      },
      "execution_count": 35,
      "outputs": [
        {
          "output_type": "stream",
          "name": "stdout",
          "text": [
            "Test Set Accuracy: 0.8930375\n",
            "              precision    recall  f1-score   support\n",
            "\n",
            "           0       0.90      0.89      0.89     40000\n",
            "           1       0.89      0.90      0.89     40000\n",
            "\n",
            "    accuracy                           0.89     80000\n",
            "   macro avg       0.89      0.89      0.89     80000\n",
            "weighted avg       0.89      0.89      0.89     80000\n",
            "\n"
          ]
        }
      ]
    },
    {
      "cell_type": "code",
      "source": [
        "# Train Faster Random Forest Model\n",
        "rf_model = RandomForestClassifier(\n",
        "    n_estimators=100,\n",
        "    max_depth=10,\n",
        "    min_samples_split=5,\n",
        "    n_jobs=-1,\n",
        "    random_state=42\n",
        ")\n",
        "\n",
        "rf_model.fit(X_train_tfidf, y_train)\n",
        "y_pred_rf = rf_model.predict(X_val_tfidf)\n",
        "\n",
        "print(\"Random Forest Accuracy:\", accuracy_score(y_val, y_pred_rf))\n",
        "print(classification_report(y_val, y_pred_rf))"
      ],
      "metadata": {
        "colab": {
          "base_uri": "https://localhost:8080/"
        },
        "id": "SpwXOZjscjFm",
        "outputId": "b54d4751-291d-445b-9f63-980e2795cd1a"
      },
      "execution_count": 26,
      "outputs": [
        {
          "output_type": "stream",
          "name": "stdout",
          "text": [
            "Random Forest Accuracy: 0.8097375\n",
            "              precision    recall  f1-score   support\n",
            "\n",
            "           0       0.83      0.77      0.80     40000\n",
            "           1       0.79      0.85      0.82     40000\n",
            "\n",
            "    accuracy                           0.81     80000\n",
            "   macro avg       0.81      0.81      0.81     80000\n",
            "weighted avg       0.81      0.81      0.81     80000\n",
            "\n"
          ]
        }
      ]
    },
    {
      "cell_type": "code",
      "source": [
        "#Evaluating on test data\n",
        "model = rf_model\n",
        "y_pred_test = model.predict(X_test_tfidf)\n",
        "\n",
        "print(\"Test Set Accuracy:\", accuracy_score(y_test, y_pred_test))\n",
        "print(classification_report(y_test, y_pred_test))"
      ],
      "metadata": {
        "colab": {
          "base_uri": "https://localhost:8080/"
        },
        "id": "uRVRHgDiRJSF",
        "outputId": "627c476d-6051-40fa-9728-d0a7bd1ff776"
      },
      "execution_count": 36,
      "outputs": [
        {
          "output_type": "stream",
          "name": "stdout",
          "text": [
            "Test Set Accuracy: 0.8097375\n",
            "              precision    recall  f1-score   support\n",
            "\n",
            "           0       0.83      0.77      0.80     40000\n",
            "           1       0.79      0.85      0.82     40000\n",
            "\n",
            "    accuracy                           0.81     80000\n",
            "   macro avg       0.81      0.81      0.81     80000\n",
            "weighted avg       0.81      0.81      0.81     80000\n",
            "\n"
          ]
        }
      ]
    },
    {
      "cell_type": "code",
      "source": [
        "#trainning with xgboost Model\n",
        "\n",
        "!pip install xgboost"
      ],
      "metadata": {
        "colab": {
          "base_uri": "https://localhost:8080/"
        },
        "id": "1QSeS2XIuWg1",
        "outputId": "44d2f3f4-c891-40c0-e2d5-3f5e536a279b"
      },
      "execution_count": 27,
      "outputs": [
        {
          "output_type": "stream",
          "name": "stdout",
          "text": [
            "Requirement already satisfied: xgboost in /usr/local/lib/python3.11/dist-packages (2.1.4)\n",
            "Requirement already satisfied: numpy in /usr/local/lib/python3.11/dist-packages (from xgboost) (1.26.4)\n",
            "Requirement already satisfied: nvidia-nccl-cu12 in /usr/local/lib/python3.11/dist-packages (from xgboost) (2.21.5)\n",
            "Requirement already satisfied: scipy in /usr/local/lib/python3.11/dist-packages (from xgboost) (1.13.1)\n"
          ]
        }
      ]
    },
    {
      "cell_type": "code",
      "source": [
        "import xgboost as xgb\n",
        "from scipy.sparse import csr_matrix"
      ],
      "metadata": {
        "id": "U9OcdtwIGf9c"
      },
      "execution_count": 31,
      "outputs": []
    },
    {
      "cell_type": "code",
      "source": [
        "params = {\n",
        "    \"objective\": \"binary:logistic\",\n",
        "    \"eval_metric\": \"logloss\",\n",
        "    \"tree_method\": \"hist\",\n",
        "    \"learning_rate\": 0.1,\n",
        "    \"max_depth\": 6,\n",
        "    \"subsample\": 0.8,\n",
        "    \"colsample_bytree\": 0.8\n",
        "}\n",
        "\n",
        "# Convert Validation Data to DMatrix (For Efficient Evaluation)\n",
        "dval = xgb.DMatrix(csr_matrix(X_val_tfidf), label=y_val)\n",
        "\n",
        "# Set Batch Size\n",
        "batch_size = 5000  # Train on 5000 rows at a time\n",
        "num_boost_round = 50  # Number of boosting rounds per batch\n",
        "\n",
        "# Initialize XGBoost Model\n",
        "xgb_model = None\n",
        "\n",
        "# Train in Batches\n",
        "for i in range(0, X_train_tfidf.shape[0], batch_size):\n",
        "    print(f\"\\n🔹 Processing Batch {i//batch_size + 1}...\")\n",
        "\n",
        "    # Select batch data\n",
        "    X_batch = X_train_tfidf[i:i+batch_size]\n",
        "    y_batch = y_train.iloc[i:i+batch_size]\n",
        "\n",
        "    # Convert to DMatrix\n",
        "    dtrain = xgb.DMatrix(csr_matrix(X_batch), label=y_batch)\n",
        "\n",
        "    # Train XGBoost (Update Model on Each Batch)\n",
        "    if xgb_model is None:\n",
        "        xgb_model = xgb.train(params, dtrain, num_boost_round=num_boost_round)\n",
        "    else:\n",
        "        xgb_model = xgb.train(params, dtrain, num_boost_round=num_boost_round, xgb_model=xgb_model)"
      ],
      "metadata": {
        "colab": {
          "base_uri": "https://localhost:8080/"
        },
        "id": "jOyjBnC5GntD",
        "outputId": "e15249f2-aa66-44d5-9694-da917b09137d"
      },
      "execution_count": 32,
      "outputs": [
        {
          "output_type": "stream",
          "name": "stdout",
          "text": [
            "\n",
            "🔹 Processing Batch 1...\n",
            "\n",
            "🔹 Processing Batch 2...\n",
            "\n",
            "🔹 Processing Batch 3...\n",
            "\n",
            "🔹 Processing Batch 4...\n",
            "\n",
            "🔹 Processing Batch 5...\n",
            "\n",
            "🔹 Processing Batch 6...\n",
            "\n",
            "🔹 Processing Batch 7...\n",
            "\n",
            "🔹 Processing Batch 8...\n",
            "\n",
            "🔹 Processing Batch 9...\n",
            "\n",
            "🔹 Processing Batch 10...\n",
            "\n",
            "🔹 Processing Batch 11...\n",
            "\n",
            "🔹 Processing Batch 12...\n",
            "\n",
            "🔹 Processing Batch 13...\n",
            "\n",
            "🔹 Processing Batch 14...\n",
            "\n",
            "🔹 Processing Batch 15...\n",
            "\n",
            "🔹 Processing Batch 16...\n",
            "\n",
            "🔹 Processing Batch 17...\n",
            "\n",
            "🔹 Processing Batch 18...\n",
            "\n",
            "🔹 Processing Batch 19...\n",
            "\n",
            "🔹 Processing Batch 20...\n",
            "\n",
            "🔹 Processing Batch 21...\n",
            "\n",
            "🔹 Processing Batch 22...\n",
            "\n",
            "🔹 Processing Batch 23...\n",
            "\n",
            "🔹 Processing Batch 24...\n",
            "\n",
            "🔹 Processing Batch 25...\n",
            "\n",
            "🔹 Processing Batch 26...\n",
            "\n",
            "🔹 Processing Batch 27...\n",
            "\n",
            "🔹 Processing Batch 28...\n",
            "\n",
            "🔹 Processing Batch 29...\n",
            "\n",
            "🔹 Processing Batch 30...\n",
            "\n",
            "🔹 Processing Batch 31...\n",
            "\n",
            "🔹 Processing Batch 32...\n",
            "\n",
            "🔹 Processing Batch 33...\n",
            "\n",
            "🔹 Processing Batch 34...\n",
            "\n",
            "🔹 Processing Batch 35...\n",
            "\n",
            "🔹 Processing Batch 36...\n",
            "\n",
            "🔹 Processing Batch 37...\n",
            "\n",
            "🔹 Processing Batch 38...\n",
            "\n",
            "🔹 Processing Batch 39...\n",
            "\n",
            "🔹 Processing Batch 40...\n",
            "\n",
            "🔹 Processing Batch 41...\n",
            "\n",
            "🔹 Processing Batch 42...\n",
            "\n",
            "🔹 Processing Batch 43...\n",
            "\n",
            "🔹 Processing Batch 44...\n",
            "\n",
            "🔹 Processing Batch 45...\n",
            "\n",
            "🔹 Processing Batch 46...\n",
            "\n",
            "🔹 Processing Batch 47...\n",
            "\n",
            "🔹 Processing Batch 48...\n",
            "\n",
            "🔹 Processing Batch 49...\n",
            "\n",
            "🔹 Processing Batch 50...\n",
            "\n",
            "🔹 Processing Batch 51...\n",
            "\n",
            "🔹 Processing Batch 52...\n",
            "\n",
            "🔹 Processing Batch 53...\n",
            "\n",
            "🔹 Processing Batch 54...\n",
            "\n",
            "🔹 Processing Batch 55...\n",
            "\n",
            "🔹 Processing Batch 56...\n",
            "\n",
            "🔹 Processing Batch 57...\n",
            "\n",
            "🔹 Processing Batch 58...\n",
            "\n",
            "🔹 Processing Batch 59...\n",
            "\n",
            "🔹 Processing Batch 60...\n",
            "\n",
            "🔹 Processing Batch 61...\n",
            "\n",
            "🔹 Processing Batch 62...\n",
            "\n",
            "🔹 Processing Batch 63...\n",
            "\n",
            "🔹 Processing Batch 64...\n"
          ]
        }
      ]
    },
    {
      "cell_type": "code",
      "source": [
        "y_pred_xgb = (xgb_model.predict(dval) > 0.5).astype(int)\n",
        "\n",
        "\n",
        "print(\"XGBoost Validation Accuracy:\", accuracy_score(y_val, y_pred_xgb))\n",
        "print(classification_report(y_val, y_pred_xgb))"
      ],
      "metadata": {
        "colab": {
          "base_uri": "https://localhost:8080/"
        },
        "id": "dyt11bChPyHG",
        "outputId": "d1ff2440-a5bc-408a-8bbb-fa1e60d3fb67"
      },
      "execution_count": 33,
      "outputs": [
        {
          "output_type": "stream",
          "name": "stdout",
          "text": [
            "XGBoost Validation Accuracy: 0.8243375\n",
            "              precision    recall  f1-score   support\n",
            "\n",
            "           0       0.82      0.82      0.82     40000\n",
            "           1       0.82      0.82      0.82     40000\n",
            "\n",
            "    accuracy                           0.82     80000\n",
            "   macro avg       0.82      0.82      0.82     80000\n",
            "weighted avg       0.82      0.82      0.82     80000\n",
            "\n"
          ]
        }
      ]
    },
    {
      "cell_type": "code",
      "source": [
        "#Evaluating XGBoost Model on test data\n",
        "\n",
        "dtest = xgb.DMatrix(csr_matrix(X_test_tfidf), label=y_test)\n",
        "y_pred_test_xgb = (xgb_model.predict(dtest) > 0.5).astype(int)\n",
        "\n",
        "# Evaluate Performance\n",
        "print(\"XGBoost Test Set Accuracy:\", accuracy_score(y_test, y_pred_test_xgb))\n",
        "print(classification_report(y_test, y_pred_test_xgb))"
      ],
      "metadata": {
        "colab": {
          "base_uri": "https://localhost:8080/"
        },
        "id": "VEm3MH0zQJpR",
        "outputId": "498ef87a-f20f-400e-da97-44e5bfae465c"
      },
      "execution_count": 38,
      "outputs": [
        {
          "output_type": "stream",
          "name": "stdout",
          "text": [
            "XGBoost Test Set Accuracy: 0.8243375\n",
            "              precision    recall  f1-score   support\n",
            "\n",
            "           0       0.82      0.82      0.82     40000\n",
            "           1       0.82      0.82      0.82     40000\n",
            "\n",
            "    accuracy                           0.82     80000\n",
            "   macro avg       0.82      0.82      0.82     80000\n",
            "weighted avg       0.82      0.82      0.82     80000\n",
            "\n"
          ]
        }
      ]
    },
    {
      "cell_type": "code",
      "source": [
        "#saving the models for depolyment and future use\n",
        "import joblib\n",
        "\n",
        "# Save Logistic Regression Model\n",
        "joblib.dump(log_reg, \"logistic_regression_model.pkl\")\n",
        "\n",
        "# Save Random Forest Model\n",
        "joblib.dump(rf_model, \"random_forest_model.pkl\")\n",
        "\n",
        "# Save XGBoost Model as Pickle (.pkl)\n",
        "joblib.dump(xgb_model, \"xgboost_model.pkl\")\n",
        "\n",
        "print(\"✅ All models saved successfully as `.pkl` files!\")"
      ],
      "metadata": {
        "colab": {
          "base_uri": "https://localhost:8080/"
        },
        "id": "iLB2jELUSyGt",
        "outputId": "06bb9bea-80ac-4e47-9fea-5c05e427c8bb"
      },
      "execution_count": 40,
      "outputs": [
        {
          "output_type": "stream",
          "name": "stdout",
          "text": [
            "✅ All models saved successfully as `.pkl` files!\n"
          ]
        }
      ]
    },
    {
      "cell_type": "code",
      "source": [
        "vectorizer_tfidf = TfidfVectorizer()\n",
        "\n",
        "# Fit on training data (ensure this is the same as model training)\n",
        "vectorizer_tfidf.fit(train_data[\"clean_text\"])\n",
        "\n",
        "# Save the vectorizer\n",
        "joblib.dump(vectorizer_tfidf, \"tfidf_vectorizer.pkl\")\n",
        "\n",
        "print(\"✅ TF-IDF Vectorizer saved successfully!\")"
      ],
      "metadata": {
        "colab": {
          "base_uri": "https://localhost:8080/"
        },
        "id": "WVdXKK3tYLBH",
        "outputId": "26c5081e-8392-4ab1-c9cc-27ee98bccdba"
      },
      "execution_count": 52,
      "outputs": [
        {
          "output_type": "stream",
          "name": "stdout",
          "text": [
            "✅ TF-IDF Vectorizer saved successfully!\n"
          ]
        }
      ]
    },
    {
      "cell_type": "code",
      "source": [
        "#Visualizing each model performance\n",
        "import matplotlib.pyplot as plt\n",
        "import numpy as np\n",
        "\n",
        "# Model names\n",
        "models = [\"Logistic Regression\", \"Random Forest\", \"XGBoost\"]\n",
        "accuracies = [\n",
        "    accuracy_score(y_test, log_reg.predict(X_test_tfidf)),\n",
        "    accuracy_score(y_test, rf_model.predict(X_test_tfidf)),\n",
        "    accuracy_score(y_test, (xgb_model.predict(dtest) > 0.5).astype(int))  # XGBoost outputs probabilities\n",
        "]\n",
        "\n",
        "# Create a bar plot\n",
        "plt.figure(figsize=(8, 5))\n",
        "plt.bar(models, accuracies, color=[\"blue\", \"green\", \"red\"])\n",
        "plt.ylim(0, 1)\n",
        "plt.xlabel(\"Models\")\n",
        "plt.ylabel(\"Accuracy Score\")\n",
        "plt.title(\"Model Performance Comparison on Test Set\")\n",
        "plt.xticks(rotation=45)\n",
        "plt.show()"
      ],
      "metadata": {
        "colab": {
          "base_uri": "https://localhost:8080/",
          "height": 577
        },
        "id": "cm-8t6LATTUK",
        "outputId": "7d5ecfef-4460-49c8-ab11-76c1b95d9bae"
      },
      "execution_count": 42,
      "outputs": [
        {
          "output_type": "display_data",
          "data": {
            "text/plain": [
              "<Figure size 800x500 with 1 Axes>"
            ],
            "image/png": "[encoded data removed]"
          },
          "metadata": {}
        }
      ]
    },
    {
      "cell_type": "code",
      "source": [
        "!pip install streamlit -q"
      ],
      "metadata": {
        "colab": {
          "base_uri": "https://localhost:8080/"
        },
        "id": "Ja75I4mVTWEO",
        "outputId": "8363a1c3-ae6d-4829-fcb8-10907a2cd64e"
      },
      "execution_count": 43,
      "outputs": [
        {
          "output_type": "stream",
          "name": "stdout",
          "text": [
            "\u001b[2K     \u001b[90m━━━━━━━━━━━━━━━━━━━━━━━━━━━━━━━━━━━━━━━━\u001b[0m \u001b[32m44.3/44.3 kB\u001b[0m \u001b[31m1.5 MB/s\u001b[0m eta \u001b[36m0:00:00\u001b[0m\n",
            "\u001b[2K   \u001b[90m━━━━━━━━━━━━━━━━━━━━━━━━━━━━━━━━━━━━━━━━\u001b[0m \u001b[32m9.6/9.6 MB\u001b[0m \u001b[31m32.9 MB/s\u001b[0m eta \u001b[36m0:00:00\u001b[0m\n",
            "\u001b[2K   \u001b[90m━━━━━━━━━━━━━━━━━━━━━━━━━━━━━━━━━━━━━━━━\u001b[0m \u001b[32m6.9/6.9 MB\u001b[0m \u001b[31m44.9 MB/s\u001b[0m eta \u001b[36m0:00:00\u001b[0m\n",
            "\u001b[2K   \u001b[90m━━━━━━━━━━━━━━━━━━━━━━━━━━━━━━━━━━━━━━━━\u001b[0m \u001b[32m79.1/79.1 kB\u001b[0m \u001b[31m4.2 MB/s\u001b[0m eta \u001b[36m0:00:00\u001b[0m\n",
            "\u001b[?25h"
          ]
        }
      ]
    },
    {
      "cell_type": "code",
      "source": [
        "%%writefile app.py\n",
        "\n",
        "import streamlit as st\n",
        "import joblib\n",
        "import pandas as pd\n",
        "\n",
        "st.set_page_config(page_title=\"Sentiment Analysis\", page_icon=\"💬\", layout=\"wide\")\n",
        "\n",
        "\n",
        "@st.cache_resource\n",
        "def load_model():\n",
        "    return joblib.load(\"logistic_regression_model.pkl\")  # Change model file if needed\n",
        "\n",
        "@st.cache_resource\n",
        "def load_vectorizer():\n",
        "    return joblib.load(\"tfidf_vectorizer.pkl\")\n",
        "\n",
        "model = load_model()\n",
        "vectorizer = load_vectorizer()\n",
        "\n",
        "# Add a Beautiful Header with Image\n",
        "st.markdown(\n",
        "    \"\"\"\n",
        "    <div style=\"text-align: center;\">\n",
        "        <h1 style=\"color:#FFA500;\">📝 Customer Sentiment Analysis</h1>\n",
        "        <h4 style=\"color:#666;\">Analyze customer reviews with AI-powered sentiment detection.</h4>\n",
        "    </div>\n",
        "    \"\"\",\n",
        "    unsafe_allow_html=True,\n",
        ")\n",
        "\n",
        "# Sidebar with App Information\n",
        "st.sidebar.image(\"https://cdn-icons-png.flaticon.com/512/3771/3771518.png\", width=100)\n",
        "st.sidebar.title(\"📊 Sentiment Analysis App\")\n",
        "st.sidebar.markdown(\n",
        "    \"\"\"\n",
        "    **Analyze Customer Feedback with AI**\n",
        "\n",
        "    - 📝 Paste a customer review\n",
        "    - 🚀 Click 'Analyze Sentiment'\n",
        "    - 🔥 Get instant sentiment results!\n",
        "\n",
        "    **Best for:**\n",
        "    ✅ Businesses & Marketing Teams\n",
        "    ✅ Customer Service Analytics\n",
        "    ✅ Product & Service Reviews\n",
        "\n",
        "    ---\n",
        "    \"\"\",\n",
        "    unsafe_allow_html=True,\n",
        ")\n",
        "\n",
        "# Example Reviews for Quick Testing\n",
        "example_reviews = [\n",
        "    \"I absolutely love this product! It's amazing. 😊\",\n",
        "    \"Terrible experience. Waste of money! 😡\",\n",
        "    \"The service was okay, not great but not bad either.\",\n",
        "    \"This is my favorite brand! The quality is top-notch. 💖\",\n",
        "    \"I had a really bad experience with this company. Never again!\"\n",
        "]\n",
        "\n",
        "selected_example = st.sidebar.selectbox(\"🔍 Try an Example Review\", [\"Type your own...\"] + example_reviews)\n",
        "\n",
        "# User Input Section\n",
        "st.markdown(\"<h3 style='color:#FFA500;'>✍️ Enter a Customer Review:</h3>\", unsafe_allow_html=True)\n",
        "if selected_example != \"Type your own...\":\n",
        "    user_input = st.text_area(\"\", selected_example, height=120)\n",
        "else:\n",
        "    user_input = st.text_area(\"\", \"\", height=120)\n",
        "\n",
        "# Sentiment Analysis Button\n",
        "if st.button(\"🚀 Analyze Sentiment\"):\n",
        "    if user_input.strip():\n",
        "        # Transform input text\n",
        "        input_vector = vectorizer.transform([user_input])\n",
        "\n",
        "        # Predict sentiment\n",
        "        prediction_prob = model.predict_proba(input_vector)[0]  # Get probability scores\n",
        "        prediction = model.predict(input_vector)[0]\n",
        "        sentiment = \"😊 Positive\" if prediction == 1 else \"😡 Negative\"\n",
        "        confidence = max(prediction_prob) * 100  # Convert to percentage\n",
        "\n",
        "        # Display Sentiment Result\n",
        "        st.markdown(\n",
        "            f\"\"\"\n",
        "            <div style=\"text-align: center;\">\n",
        "                <h2 style=\"color: {'#28a745' if prediction == 1 else '#dc3545'};\">\n",
        "                    {sentiment}\n",
        "                </h2>\n",
        "                <h4>Confidence: {confidence:.2f}%</h4>\n",
        "            </div>\n",
        "            \"\"\",\n",
        "            unsafe_allow_html=True,\n",
        "        )\n",
        "\n",
        "    else:\n",
        "        st.warning(\"⚠️ Please enter a review before analyzing!\")\n",
        "\n",
        "# Footer\n",
        "st.markdown(\n",
        "    \"\"\"\n",
        "    <hr>\n",
        "    <div style=\"text-align: center; font-size: 14px;\">\n",
        "        Built with ❤️ using Streamlit | AI-Powered Sentiment Analysis 🚀\n",
        "    </div>\n",
        "    \"\"\",\n",
        "    unsafe_allow_html=True,\n",
        ")\n"
      ],
      "metadata": {
        "colab": {
          "base_uri": "https://localhost:8080/"
        },
        "id": "uYHZHvKFUHF9",
        "outputId": "fce15968-d319-4b94-b861-eb36553eb566"
      },
      "execution_count": 53,
      "outputs": [
        {
          "output_type": "stream",
          "name": "stdout",
          "text": [
            "Writing app.py\n"
          ]
        }
      ]
    },
    {
      "cell_type": "code",
      "source": [
        "!wget -q -O - ipv4.icanhazip.com"
      ],
      "metadata": {
        "colab": {
          "base_uri": "https://localhost:8080/"
        },
        "id": "24PsCr5NVlyg",
        "outputId": "96585045-36b5-4126-dc03-cb8def134d31"
      },
      "execution_count": 54,
      "outputs": [
        {
          "output_type": "stream",
          "name": "stdout",
          "text": [
            "35.230.61.173\n"
          ]
        }
      ]
    },
    {
      "cell_type": "code",
      "source": [
        "!streamlit run app.py & npx localtunnel --port 8501"
      ],
      "metadata": {
        "colab": {
          "base_uri": "https://localhost:8080/"
        },
        "id": "EyAScb2-VqBI",
        "outputId": "9703161e-cf33-49b5-babd-ab13095fd1fb"
      },
      "execution_count": 55,
      "outputs": [
        {
          "output_type": "stream",
          "name": "stdout",
          "text": [
            "\n",
            "Collecting usage statistics. To deactivate, set browser.gatherUsageStats to false.\n",
            "\u001b[0m\n",
            "\u001b[1G\u001b[0K⠙\u001b[0m\n",
            "\u001b[34m\u001b[1m  You can now view your Streamlit app in your browser.\u001b[0m\n",
            "\u001b[0m\n",
            "\u001b[34m  Local URL: \u001b[0m\u001b[1mhttp://localhost:8501\u001b[0m\n",
            "\u001b[34m  Network URL: \u001b[0m\u001b[1mhttp://172.28.0.12:8501\u001b[0m\n",
            "\u001b[34m  External URL: \u001b[0m\u001b[1mhttp://35.230.61.173:8501\u001b[0m\n",
            "\u001b[0m\n",
            "\u001b[1G\u001b[0K⠹\u001b[1G\u001b[0K⠸\u001b[1G\u001b[0K⠼\u001b[1G\u001b[0K⠴\u001b[1G\u001b[0K⠦\u001b[1G\u001b[0Kyour url is: https://stale-chairs-agree.loca.lt\n",
            "2025-02-17 00:51:01.590 Uncaught exception GET /_stcore/stream (127.0.0.1)\n",
            "HTTPServerRequest(protocol='http', host='stale-chairs-agree.loca.lt', method='GET', uri='/_stcore/stream', version='HTTP/1.1', remote_ip='127.0.0.1')\n",
            "Traceback (most recent call last):\n",
            "  File \"/usr/local/lib/python3.11/dist-packages/tornado/websocket.py\", line 938, in _accept_connection\n",
            "    open_result = handler.open(*handler.open_args, **handler.open_kwargs)\n",
            "                  ^^^^^^^^^^^^^^^^^^^^^^^^^^^^^^^^^^^^^^^^^^^^^^^^^^^^^^^\n",
            "  File \"/usr/local/lib/python3.11/dist-packages/streamlit/web/server/browser_websocket_handler.py\", line 176, in open\n",
            "    self._session_id = self._runtime.connect_session(\n",
            "                       ^^^^^^^^^^^^^^^^^^^^^^^^^^^^^^\n",
            "  File \"/usr/local/lib/python3.11/dist-packages/streamlit/runtime/runtime.py\", line 397, in connect_session\n",
            "    session_id = self._session_mgr.connect_session(\n",
            "                 ^^^^^^^^^^^^^^^^^^^^^^^^^^^^^^^^^^\n",
            "  File \"/usr/local/lib/python3.11/dist-packages/streamlit/runtime/websocket_session_manager.py\", line 99, in connect_session\n",
            "    session = AppSession(\n",
            "              ^^^^^^^^^^^\n",
            "  File \"/usr/local/lib/python3.11/dist-packages/streamlit/runtime/app_session.py\", line 133, in __init__\n",
            "    self._pages_manager = PagesManager(\n",
            "                          ^^^^^^^^^^^^^\n",
            "  File \"/usr/local/lib/python3.11/dist-packages/streamlit/runtime/pages_manager.py\", line 235, in __init__\n",
            "    self.pages_strategy = PagesManager.DefaultStrategy(self, **kwargs)\n",
            "                          ^^^^^^^^^^^^^^^^^^^^^^^^^^^^^^^^^^^^^^^^^^^^\n",
            "  File \"/usr/local/lib/python3.11/dist-packages/streamlit/runtime/pages_manager.py\", line 73, in __init__\n",
            "    PagesStrategyV1.watch_pages_dir(pages_manager)\n",
            "  File \"/usr/local/lib/python3.11/dist-packages/streamlit/runtime/pages_manager.py\", line 61, in watch_pages_dir\n",
            "    watch_dir(\n",
            "  File \"/usr/local/lib/python3.11/dist-packages/streamlit/watcher/path_watcher.py\", line 155, in watch_dir\n",
            "    return _watch_path(\n",
            "           ^^^^^^^^^^^^\n",
            "  File \"/usr/local/lib/python3.11/dist-packages/streamlit/watcher/path_watcher.py\", line 126, in _watch_path\n",
            "    watcher_class(\n",
            "  File \"/usr/local/lib/python3.11/dist-packages/streamlit/watcher/event_based_path_watcher.py\", line 107, in __init__\n",
            "    path_watcher.watch_path(\n",
            "  File \"/usr/local/lib/python3.11/dist-packages/streamlit/watcher/event_based_path_watcher.py\", line 185, in watch_path\n",
            "    folder_handler.watch = self._observer.schedule(\n",
            "                           ^^^^^^^^^^^^^^^^^^^^^^^^\n",
            "  File \"/usr/local/lib/python3.11/dist-packages/watchdog/observers/api.py\", line 312, in schedule\n",
            "    emitter.start()\n",
            "  File \"/usr/local/lib/python3.11/dist-packages/watchdog/utils/__init__.py\", line 75, in start\n",
            "    self.on_thread_start()\n",
            "  File \"/usr/local/lib/python3.11/dist-packages/watchdog/observers/inotify.py\", line 119, in on_thread_start\n",
            "    self._inotify = InotifyBuffer(path, recursive=self.watch.is_recursive, event_mask=event_mask)\n",
            "                    ^^^^^^^^^^^^^^^^^^^^^^^^^^^^^^^^^^^^^^^^^^^^^^^^^^^^^^^^^^^^^^^^^^^^^^^^^^^^^\n",
            "  File \"/usr/local/lib/python3.11/dist-packages/watchdog/observers/inotify_buffer.py\", line 30, in __init__\n",
            "    self._inotify = Inotify(path, recursive=recursive, event_mask=event_mask)\n",
            "                    ^^^^^^^^^^^^^^^^^^^^^^^^^^^^^^^^^^^^^^^^^^^^^^^^^^^^^^^^^\n",
            "  File \"/usr/local/lib/python3.11/dist-packages/watchdog/observers/inotify_c.py\", line 185, in __init__\n",
            "    self._add_dir_watch(path, event_mask, recursive=recursive)\n",
            "  File \"/usr/local/lib/python3.11/dist-packages/watchdog/observers/inotify_c.py\", line 411, in _add_dir_watch\n",
            "    self._add_watch(full_path, mask)\n",
            "  File \"/usr/local/lib/python3.11/dist-packages/watchdog/observers/inotify_c.py\", line 424, in _add_watch\n",
            "    Inotify._raise_error()\n",
            "  File \"/usr/local/lib/python3.11/dist-packages/watchdog/observers/inotify_c.py\", line 441, in _raise_error\n",
            "    raise OSError(err, os.strerror(err))\n",
            "FileNotFoundError: [Errno 2] No such file or directory\n",
            "Exception ignored in: <function AppSession.__del__ at 0x7a62be9f4b80>\n",
            "Traceback (most recent call last):\n",
            "  File \"/usr/local/lib/python3.11/dist-packages/streamlit/runtime/app_session.py\", line 174, in __del__\n",
            "    self.shutdown()\n",
            "  File \"/usr/local/lib/python3.11/dist-packages/streamlit/runtime/app_session.py\", line 240, in shutdown\n",
            "    if self._state != AppSessionState.SHUTDOWN_REQUESTED:\n",
            "       ^^^^^^^^^^^\n",
            "AttributeError: 'AppSession' object has no attribute '_state'\n",
            "2025-02-17 00:51:07.363 `label` got an empty value. This is discouraged for accessibility reasons and may be disallowed in the future by raising an exception. Please provide a non-empty label and hide it with label_visibility if needed.\n",
            "2025-02-17 00:52:20.426 `label` got an empty value. This is discouraged for accessibility reasons and may be disallowed in the future by raising an exception. Please provide a non-empty label and hide it with label_visibility if needed.\n",
            "2025-02-17 00:52:39.558 `label` got an empty value. This is discouraged for accessibility reasons and may be disallowed in the future by raising an exception. Please provide a non-empty label and hide it with label_visibility if needed.\n",
            "2025-02-17 00:52:52.454 `label` got an empty value. This is discouraged for accessibility reasons and may be disallowed in the future by raising an exception. Please provide a non-empty label and hide it with label_visibility if needed.\n",
            "2025-02-17 00:52:53.107 `label` got an empty value. This is discouraged for accessibility reasons and may be disallowed in the future by raising an exception. Please provide a non-empty label and hide it with label_visibility if needed.\n",
            "2025-02-17 00:53:06.939 `label` got an empty value. This is discouraged for accessibility reasons and may be disallowed in the future by raising an exception. Please provide a non-empty label and hide it with label_visibility if needed.\n",
            "2025-02-17 00:53:07.027 `label` got an empty value. This is discouraged for accessibility reasons and may be disallowed in the future by raising an exception. Please provide a non-empty label and hide it with label_visibility if needed.\n",
            "\u001b[34m  Stopping...\u001b[0m\n",
            "^C\n"
          ]
        }
      ]
    }
  ]
}